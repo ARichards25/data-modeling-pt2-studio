{
    "metadata": {
        "kernelspec": {
            "name": "python3",
            "display_name": "Python 3",
            "language": "python"
        },
        "language_info": {
            "name": "python",
            "version": "3.8.8",
            "mimetype": "text/x-python",
            "codemirror_mode": {
                "name": "ipython",
                "version": 3
            },
            "pygments_lexer": "ipython3",
            "nbconvert_exporter": "python",
            "file_extension": ".py"
        }
    },
    "nbformat_minor": 2,
    "nbformat": 4,
    "cells": [
        {
            "cell_type": "markdown",
            "source": [
                "# Studio: Using Linear Regression to Predict Stock Prices\n",
                "\n",
                "Many investors want to know how to predict stock prices. If we could predict the price of a share, we could know when the sell and when to buy and make quite a lot of money in the process. For this studio, you work for a small investing firm who wants you to see if you can use linear regression to predict the prices of MasterCard stock based on historical stock price data.\n",
                "\n",
                "The dataset came from [Kaggle](https://www.kaggle.com/kalilurrahman/mastercard-stock-data-latest-and-updated) and the CSV is included with this notebook.\n",
                "\n",
                "## Getting Started\n",
                "\n",
                "We have imported some of the libraries you need and set up the dataframe for you. Before writing any code, read through the code cell below. We added a column to the dataframe called `'Converted Date'`. If you look at the output of using `.head()`, you will notice that the converted date is large numbers that don't seem to reflect what we know is a date. We set up this column for you to use your linear regression later because the linear regression model struggles to work with `datetime` values. "
            ],
            "metadata": {
                "azdata_cell_guid": "51f89f30-f316-4f65-a962-223d9a0dffa8"
            },
            "attachments": {}
        },
        {
            "cell_type": "code",
            "source": [
                "import numpy as np\n",
                "import pandas as pd\n",
                "import matplotlib.pyplot as plt \n",
                "import seaborn as sb\n",
                "import datetime as dt\n",
                "\n",
                "\n",
                "stocks_df = pd.read_csv(\"Mastercard_stock_history.csv\")\n",
                "stocks_df['Year'] = pd.to_numeric(stocks_df['Date'].str[:4])\n",
                "stocks_df['Date'] = pd.to_datetime(stocks_df['Date'])\n",
                "stocks_df['Converted Date'] = stocks_df['Date'].map(dt.datetime.toordinal)"
            ],
            "metadata": {
                "azdata_cell_guid": "99f1c94f-1c20-42d7-9889-198ba0f78343"
            },
            "outputs": [],
            "execution_count": 55
        },
        {
            "cell_type": "markdown",
            "source": [
                "## Look at Correlations\n",
                "\n",
                "Use both `pairplot()` and `heatmap()` to see if there are any correlations between the variables. You can use whatever variables you would like but when creating your pairplot, remember that the business issue we are trying to tackle is the prediction of stock prices."
            ],
            "metadata": {
                "azdata_cell_guid": "e931a58a-c8d8-4a31-9856-a0550ed76f8d"
            }
        },
        {
            "cell_type": "code",
            "source": [
                ""
            ],
            "metadata": {
                "azdata_cell_guid": "a11b7d5c-eef0-4936-a7a0-a48a26761d6d"
            },
            "outputs": [],
            "execution_count": 55
        },
        {
            "cell_type": "code",
            "source": [
                "\n",
                "plt.show()"
            ],
            "metadata": {
                "azdata_cell_guid": "504d3ce1-c478-441d-8d85-f036361a2d28",
                "tags": [
                    "hide_input"
                ]
            },
            "outputs": [],
            "execution_count": 56
        },
        {
            "cell_type": "markdown",
            "source": [
                "## Build Your Model\n",
                "\n",
                "Now you are ready to build your model. First, assign your x- and y-variables."
            ],
            "metadata": {
                "azdata_cell_guid": "7bcc9331-899c-4fad-ab7f-b136a33156a5"
            },
            "attachments": {}
        },
        {
            "cell_type": "code",
            "source": [
                ""
            ],
            "metadata": {
                "azdata_cell_guid": "ed3d5f69-a714-4ebe-8d44-ce1c091b6558"
            },
            "outputs": [],
            "execution_count": 56
        },
        {
            "cell_type": "markdown",
            "source": [
                "Use the code cells below to create your testing and training sets and output two of your sets to ensure that everything is working."
            ],
            "metadata": {
                "azdata_cell_guid": "9576ac76-288d-470e-8eb6-aae4e6af6cf1"
            },
            "attachments": {}
        },
        {
            "cell_type": "code",
            "source": [
                ""
            ],
            "metadata": {
                "azdata_cell_guid": "5ef88acf-6429-4c93-8169-f96ad93d02f8"
            },
            "outputs": [],
            "execution_count": 56
        },
        {
            "cell_type": "code",
            "source": [
                ""
            ],
            "metadata": {
                "azdata_cell_guid": "51ab0944-156d-4b7b-88e6-f2a551815bb9",
                "tags": []
            },
            "outputs": [],
            "execution_count": 56
        },
        {
            "cell_type": "markdown",
            "source": [
                "With your training and testing sets ready to go, create your linear regression model. Use `summary()` to see how the model went."
            ],
            "metadata": {
                "azdata_cell_guid": "818fbcf9-d5a2-4c62-b6c7-4ed6a1e4c746"
            }
        },
        {
            "cell_type": "code",
            "source": [
                ""
            ],
            "metadata": {
                "azdata_cell_guid": "82387870-7378-4724-b121-22a5b4c91bf6"
            },
            "outputs": [],
            "execution_count": 56
        },
        {
            "cell_type": "markdown",
            "source": [
                "Create a plot that shows your training sets and the linear regression line. Remember to use the values outputted above by `summary()` to make the line."
            ],
            "metadata": {
                "azdata_cell_guid": "bbc67ef5-5858-40b1-a398-17f1c0c5d323"
            }
        },
        {
            "cell_type": "code",
            "source": [
                ""
            ],
            "metadata": {
                "azdata_cell_guid": "d70713c3-0691-4171-ad69-3cb4f8943867"
            },
            "outputs": [],
            "execution_count": 56
        },
        {
            "cell_type": "markdown",
            "source": [
                "## Error Terms\n",
                "\n",
                "With your model built, time to look at the error terms. Use the code cell below to create the residuals with the predicted y-variable and the y training set."
            ],
            "metadata": {
                "azdata_cell_guid": "bb482f11-75d1-46c0-831c-56c177eeeb77"
            }
        },
        {
            "cell_type": "code",
            "source": [
                ""
            ],
            "metadata": {
                "azdata_cell_guid": "415ac496-8d14-4c68-910d-56d7a650c8d0"
            },
            "outputs": [],
            "execution_count": 56
        },
        {
            "cell_type": "markdown",
            "source": [
                "Now plot the residuals. Did you get a bell curve?"
            ],
            "metadata": {
                "azdata_cell_guid": "c03c38bb-3597-4f5f-895c-bc4e556ac779"
            },
            "attachments": {}
        },
        {
            "cell_type": "code",
            "source": [
                ""
            ],
            "metadata": {
                "azdata_cell_guid": "0967b60a-dea6-4790-bc71-93e8ba2ce15a"
            },
            "outputs": [],
            "execution_count": 56
        },
        {
            "cell_type": "markdown",
            "source": [
                "## Summarize Your Work\n",
                "\n",
                "Take some time to reflect on your linear regression model. Make note of your answers to the following questions.\n",
                "\n",
                "1. When using a linear regression model to analyze financial data, getting an R-squared value above 0.7 is considered excellent. Was your R-squared value higher than this threshold?\n",
                "2. Based on your analysis, would you recommend that linear regression be used to predict the price of Mastercard shares? "
            ],
            "metadata": {
                "azdata_cell_guid": "da824761-aa74-47f3-a9f2-ba5f4faf01a8"
            }
        }
    ]
}